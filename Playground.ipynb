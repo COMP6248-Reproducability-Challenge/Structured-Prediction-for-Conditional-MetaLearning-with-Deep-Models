{
 "cells": [
  {
   "cell_type": "code",
   "execution_count": 14,
   "metadata": {},
   "outputs": [],
   "source": [
    "import os\n",
    "import numpy as np\n",
    "import torch\n",
    "import torchvision\n",
    "import PIL\n",
    "import importlib\n",
    "import matplotlib.pyplot as plt\n",
    "%matplotlib inline\n",
    "import copy\n",
    "#\n",
    "import config.config_flags as Config\n",
    "import data_load.data_provider as dp\n",
    "import runner as runner\n",
    "import utils.task_helper as th\n",
    "import utils.helper as helper\n",
    "import datasetconf as DC\n",
    "import TaskClass as TaskClass\n",
    "import Task as Task\n",
    "import TestNets as TestNets\n",
    "import maml as MAML\n",
    "#\n",
    "_ = importlib.reload(Config)\n",
    "_ = importlib.reload(th)\n",
    "_ = importlib.reload(dp)\n",
    "_ = importlib.reload(runner)\n",
    "_ = importlib.reload(helper)\n",
    "_ = importlib.reload(DC)\n",
    "_ = importlib.reload(TaskClass)\n",
    "_ = importlib.reload(Task)\n",
    "_ = importlib.reload(TestNets)\n",
    "_ = importlib.reload(MAML)"
   ]
  },
  {
   "cell_type": "markdown",
   "metadata": {},
   "source": [
    "## Loading tasks from local img folders."
   ]
  },
  {
   "cell_type": "code",
   "execution_count": 2,
   "metadata": {},
   "outputs": [],
   "source": [
    "task1 = Task.create_task_given(\n",
    "    task_friendly_name='Task1',\n",
    "    dataset_name='boat',\n",
    "    class_names=['Gondola', 'Motopontonerettangolare'], #n-way\n",
    "    len_support_dataset=3, #k-shot\n",
    "    len_query_dataset=2,   #k-shot\n",
    "    let_test_dataset=5, # Number of test cases per class\n",
    "    transformer=torchvision.transforms.Compose([\n",
    "        torchvision.transforms.Resize(224),\n",
    "        torchvision.transforms.CenterCrop(224),\n",
    "        torchvision.transforms.ToTensor(),\n",
    "        torchvision.transforms.Normalize(\n",
    "            mean=[0.485, 0.456, 0.406],\n",
    "            std=[0.229, 0.224, 0.225])]),\n",
    "    img_size=224,\n",
    "    start_class_id=0)\n",
    "task1.reset_train_session()\n",
    "#\n",
    "task2 = Task.create_task_given(\n",
    "    task_friendly_name='Task2',\n",
    "    dataset_name='boat',\n",
    "    class_names=['Raccoltarifiuti', 'Water'],\n",
    "    len_support_dataset=3,\n",
    "    len_query_dataset=2,\n",
    "    let_test_dataset=5, # Number of test cases per class\n",
    "    transformer=torchvision.transforms.Compose([\n",
    "        torchvision.transforms.Resize(224),\n",
    "        torchvision.transforms.CenterCrop(224),\n",
    "        torchvision.transforms.ToTensor(),\n",
    "        torchvision.transforms.Normalize(\n",
    "            mean=[0.485, 0.456, 0.406],\n",
    "            std=[0.229, 0.224, 0.225])]),\n",
    "    img_size=224,\n",
    "    start_class_id=2)\n",
    "task2.reset_train_session()\n",
    "#\n",
    "TASKS = [task1, task2]\n",
    "LEN_CLASSES = sum(len(task.task_classes) for task in TASKS)\n",
    "CLASSES_NAMES = [taskclass.class_friendly_name for task in TASKS for taskclass in task.task_classes]\n",
    "NUM_IN_CHANNELS = 3 # RGB"
   ]
  },
  {
   "cell_type": "markdown",
   "metadata": {},
   "source": [
    "## Create Tak Objects"
   ]
  },
  {
   "cell_type": "code",
   "execution_count": 15,
   "metadata": {},
   "outputs": [
    {
     "name": "stdout",
     "output_type": "stream",
     "text": [
      "Filtering top-m alpha weights and training tasks\n",
      "Fetching train embeddings\n",
      "Path fetched: ../embeddings\\tieredImageNet\\center\\train_embeddings.pkl\n"
     ]
    },
    {
     "name": "stderr",
     "output_type": "stream",
     "text": [
      "  4%|███▎                                                                              | 4/100 [00:00<00:02, 37.46it/s]"
     ]
    },
    {
     "name": "stdout",
     "output_type": "stream",
     "text": [
      "Generating training tasks\n",
      "Generating top m training tasks for test task 0\n"
     ]
    },
    {
     "name": "stderr",
     "output_type": "stream",
     "text": [
      "100%|████████████████████████████████████████████████████████████████████████████████| 100/100 [00:01<00:00, 98.82it/s]\n",
      " 12%|█████████▌                                                                      | 12/100 [00:00<00:00, 115.94it/s]"
     ]
    },
    {
     "name": "stdout",
     "output_type": "stream",
     "text": [
      "Generating top m training tasks for test task 1\n"
     ]
    },
    {
     "name": "stderr",
     "output_type": "stream",
     "text": [
      "100%|███████████████████████████████████████████████████████████████████████████████| 100/100 [00:00<00:00, 114.21it/s]\n",
      " 12%|█████████▌                                                                      | 12/100 [00:00<00:00, 114.59it/s]"
     ]
    },
    {
     "name": "stdout",
     "output_type": "stream",
     "text": [
      "Generating top m training tasks for test task 2\n"
     ]
    },
    {
     "name": "stderr",
     "output_type": "stream",
     "text": [
      "100%|███████████████████████████████████████████████████████████████████████████████| 100/100 [00:00<00:00, 113.69it/s]\n",
      " 24%|███████████████████▏                                                            | 24/100 [00:00<00:00, 114.18it/s]"
     ]
    },
    {
     "name": "stdout",
     "output_type": "stream",
     "text": [
      "Generating top m training tasks for test task 3\n"
     ]
    },
    {
     "name": "stderr",
     "output_type": "stream",
     "text": [
      "100%|████████████████████████████████████████████████████████████████████████████████| 100/100 [00:01<00:00, 91.49it/s]\n",
      "  9%|███████▍                                                                          | 9/100 [00:00<00:01, 82.56it/s]"
     ]
    },
    {
     "name": "stdout",
     "output_type": "stream",
     "text": [
      "Generating top m training tasks for test task 4\n"
     ]
    },
    {
     "name": "stderr",
     "output_type": "stream",
     "text": [
      "100%|████████████████████████████████████████████████████████████████████████████████| 100/100 [00:01<00:00, 98.55it/s]\n",
      " 23%|██████████████████▍                                                             | 23/100 [00:00<00:00, 108.46it/s]"
     ]
    },
    {
     "name": "stdout",
     "output_type": "stream",
     "text": [
      "Generating top m training tasks for test task 5\n"
     ]
    },
    {
     "name": "stderr",
     "output_type": "stream",
     "text": [
      "100%|███████████████████████████████████████████████████████████████████████████████| 100/100 [00:00<00:00, 110.44it/s]\n",
      " 11%|████████▊                                                                       | 11/100 [00:00<00:00, 105.62it/s]"
     ]
    },
    {
     "name": "stdout",
     "output_type": "stream",
     "text": [
      "Generating top m training tasks for test task 6\n"
     ]
    },
    {
     "name": "stderr",
     "output_type": "stream",
     "text": [
      "100%|███████████████████████████████████████████████████████████████████████████████| 100/100 [00:00<00:00, 110.55it/s]\n",
      " 12%|█████████▌                                                                      | 12/100 [00:00<00:00, 114.91it/s]"
     ]
    },
    {
     "name": "stdout",
     "output_type": "stream",
     "text": [
      "Generating top m training tasks for test task 7\n"
     ]
    },
    {
     "name": "stderr",
     "output_type": "stream",
     "text": [
      "100%|███████████████████████████████████████████████████████████████████████████████| 100/100 [00:00<00:00, 114.25it/s]\n",
      " 12%|█████████▌                                                                      | 12/100 [00:00<00:00, 118.22it/s]"
     ]
    },
    {
     "name": "stdout",
     "output_type": "stream",
     "text": [
      "Generating top m training tasks for test task 8\n"
     ]
    },
    {
     "name": "stderr",
     "output_type": "stream",
     "text": [
      "100%|███████████████████████████████████████████████████████████████████████████████| 100/100 [00:00<00:00, 105.51it/s]\n",
      " 11%|████████▊                                                                       | 11/100 [00:00<00:00, 109.76it/s]"
     ]
    },
    {
     "name": "stdout",
     "output_type": "stream",
     "text": [
      "Generating top m training tasks for test task 9\n"
     ]
    },
    {
     "name": "stderr",
     "output_type": "stream",
     "text": [
      "100%|███████████████████████████████████████████████████████████████████████████████| 100/100 [00:00<00:00, 105.82it/s]\n",
      " 24%|███████████████████▏                                                            | 24/100 [00:00<00:00, 116.34it/s]"
     ]
    },
    {
     "name": "stdout",
     "output_type": "stream",
     "text": [
      "Generating top m training tasks for test task 10\n"
     ]
    },
    {
     "name": "stderr",
     "output_type": "stream",
     "text": [
      "100%|███████████████████████████████████████████████████████████████████████████████| 100/100 [00:00<00:00, 115.16it/s]\n",
      " 12%|█████████▌                                                                      | 12/100 [00:00<00:00, 113.48it/s]"
     ]
    },
    {
     "name": "stdout",
     "output_type": "stream",
     "text": [
      "Generating top m training tasks for test task 11\n"
     ]
    },
    {
     "name": "stderr",
     "output_type": "stream",
     "text": [
      "100%|███████████████████████████████████████████████████████████████████████████████| 100/100 [00:00<00:00, 106.15it/s]\n",
      " 12%|█████████▌                                                                      | 12/100 [00:00<00:00, 114.09it/s]"
     ]
    },
    {
     "name": "stdout",
     "output_type": "stream",
     "text": [
      "Generating top m training tasks for test task 12\n"
     ]
    },
    {
     "name": "stderr",
     "output_type": "stream",
     "text": [
      "100%|███████████████████████████████████████████████████████████████████████████████| 100/100 [00:00<00:00, 103.84it/s]\n",
      " 11%|████████▊                                                                       | 11/100 [00:00<00:00, 103.90it/s]"
     ]
    },
    {
     "name": "stdout",
     "output_type": "stream",
     "text": [
      "Generating top m training tasks for test task 13\n"
     ]
    },
    {
     "name": "stderr",
     "output_type": "stream",
     "text": [
      "100%|███████████████████████████████████████████████████████████████████████████████| 100/100 [00:00<00:00, 108.87it/s]\n",
      " 12%|█████████▌                                                                      | 12/100 [00:00<00:00, 113.94it/s]"
     ]
    },
    {
     "name": "stdout",
     "output_type": "stream",
     "text": [
      "Generating top m training tasks for test task 14\n"
     ]
    },
    {
     "name": "stderr",
     "output_type": "stream",
     "text": [
      "100%|███████████████████████████████████████████████████████████████████████████████| 100/100 [00:00<00:00, 114.48it/s]\n",
      " 11%|████████▊                                                                       | 11/100 [00:00<00:00, 106.07it/s]"
     ]
    },
    {
     "name": "stdout",
     "output_type": "stream",
     "text": [
      "Generating top m training tasks for test task 15\n"
     ]
    },
    {
     "name": "stderr",
     "output_type": "stream",
     "text": [
      "100%|███████████████████████████████████████████████████████████████████████████████| 100/100 [00:00<00:00, 109.25it/s]\n",
      " 12%|█████████▌                                                                      | 12/100 [00:00<00:00, 120.00it/s]"
     ]
    },
    {
     "name": "stdout",
     "output_type": "stream",
     "text": [
      "Generating top m training tasks for test task 16\n"
     ]
    },
    {
     "name": "stderr",
     "output_type": "stream",
     "text": [
      "100%|███████████████████████████████████████████████████████████████████████████████| 100/100 [00:00<00:00, 107.46it/s]\n",
      " 12%|█████████▌                                                                      | 12/100 [00:00<00:00, 113.73it/s]"
     ]
    },
    {
     "name": "stdout",
     "output_type": "stream",
     "text": [
      "Generating top m training tasks for test task 17\n"
     ]
    },
    {
     "name": "stderr",
     "output_type": "stream",
     "text": [
      "100%|███████████████████████████████████████████████████████████████████████████████| 100/100 [00:00<00:00, 113.70it/s]\n",
      " 11%|████████▊                                                                       | 11/100 [00:00<00:00, 107.00it/s]"
     ]
    },
    {
     "name": "stdout",
     "output_type": "stream",
     "text": [
      "Generating top m training tasks for test task 18\n"
     ]
    },
    {
     "name": "stderr",
     "output_type": "stream",
     "text": [
      "100%|███████████████████████████████████████████████████████████████████████████████| 100/100 [00:00<00:00, 111.71it/s]\n",
      " 12%|█████████▌                                                                      | 12/100 [00:00<00:00, 113.88it/s]"
     ]
    },
    {
     "name": "stdout",
     "output_type": "stream",
     "text": [
      "Generating top m training tasks for test task 19\n"
     ]
    },
    {
     "name": "stderr",
     "output_type": "stream",
     "text": [
      "100%|███████████████████████████████████████████████████████████████████████████████| 100/100 [00:00<00:00, 107.49it/s]\n",
      "  9%|███████▍                                                                          | 9/100 [00:00<00:01, 83.32it/s]"
     ]
    },
    {
     "name": "stdout",
     "output_type": "stream",
     "text": [
      "Generating top m training tasks for test task 20\n"
     ]
    },
    {
     "name": "stderr",
     "output_type": "stream",
     "text": [
      "100%|███████████████████████████████████████████████████████████████████████████████| 100/100 [00:00<00:00, 110.62it/s]\n",
      " 12%|█████████▌                                                                      | 12/100 [00:00<00:00, 111.12it/s]"
     ]
    },
    {
     "name": "stdout",
     "output_type": "stream",
     "text": [
      "Generating top m training tasks for test task 21\n"
     ]
    },
    {
     "name": "stderr",
     "output_type": "stream",
     "text": [
      "100%|███████████████████████████████████████████████████████████████████████████████| 100/100 [00:00<00:00, 101.45it/s]\n",
      " 11%|████████▊                                                                       | 11/100 [00:00<00:00, 107.30it/s]"
     ]
    },
    {
     "name": "stdout",
     "output_type": "stream",
     "text": [
      "Generating top m training tasks for test task 22\n"
     ]
    },
    {
     "name": "stderr",
     "output_type": "stream",
     "text": [
      "100%|███████████████████████████████████████████████████████████████████████████████| 100/100 [00:00<00:00, 105.12it/s]\n",
      " 12%|█████████▌                                                                      | 12/100 [00:00<00:00, 115.21it/s]"
     ]
    },
    {
     "name": "stdout",
     "output_type": "stream",
     "text": [
      "Generating top m training tasks for test task 23\n"
     ]
    },
    {
     "name": "stderr",
     "output_type": "stream",
     "text": [
      "100%|███████████████████████████████████████████████████████████████████████████████| 100/100 [00:00<00:00, 106.22it/s]\n",
      " 18%|██████████████▌                                                                  | 18/100 [00:00<00:00, 85.53it/s]"
     ]
    },
    {
     "name": "stdout",
     "output_type": "stream",
     "text": [
      "Generating top m training tasks for test task 24\n"
     ]
    },
    {
     "name": "stderr",
     "output_type": "stream",
     "text": [
      "100%|███████████████████████████████████████████████████████████████████████████████| 100/100 [00:00<00:00, 101.03it/s]\n",
      " 12%|█████████▌                                                                      | 12/100 [00:00<00:00, 114.19it/s]"
     ]
    },
    {
     "name": "stdout",
     "output_type": "stream",
     "text": [
      "Generating top m training tasks for test task 25\n"
     ]
    },
    {
     "name": "stderr",
     "output_type": "stream",
     "text": [
      "100%|███████████████████████████████████████████████████████████████████████████████| 100/100 [00:00<00:00, 110.99it/s]\n",
      "  9%|███████▍                                                                          | 9/100 [00:00<00:01, 86.21it/s]"
     ]
    },
    {
     "name": "stdout",
     "output_type": "stream",
     "text": [
      "Generating top m training tasks for test task 26\n"
     ]
    },
    {
     "name": "stderr",
     "output_type": "stream",
     "text": [
      "100%|████████████████████████████████████████████████████████████████████████████████| 100/100 [00:01<00:00, 91.66it/s]\n",
      " 11%|████████▊                                                                       | 11/100 [00:00<00:00, 107.59it/s]"
     ]
    },
    {
     "name": "stdout",
     "output_type": "stream",
     "text": [
      "Generating top m training tasks for test task 27\n"
     ]
    },
    {
     "name": "stderr",
     "output_type": "stream",
     "text": [
      "100%|███████████████████████████████████████████████████████████████████████████████| 100/100 [00:00<00:00, 110.73it/s]\n",
      " 25%|████████████████████                                                            | 25/100 [00:00<00:00, 118.71it/s]"
     ]
    },
    {
     "name": "stdout",
     "output_type": "stream",
     "text": [
      "Generating top m training tasks for test task 28\n"
     ]
    },
    {
     "name": "stderr",
     "output_type": "stream",
     "text": [
      "100%|███████████████████████████████████████████████████████████████████████████████| 100/100 [00:00<00:00, 117.06it/s]\n",
      " 11%|████████▊                                                                       | 11/100 [00:00<00:00, 106.91it/s]"
     ]
    },
    {
     "name": "stdout",
     "output_type": "stream",
     "text": [
      "Generating top m training tasks for test task 29\n"
     ]
    },
    {
     "name": "stderr",
     "output_type": "stream",
     "text": [
      "100%|████████████████████████████████████████████████████████████████████████████████| 100/100 [00:01<00:00, 96.43it/s]\n",
      " 23%|██████████████████▍                                                             | 23/100 [00:00<00:00, 114.13it/s]"
     ]
    },
    {
     "name": "stdout",
     "output_type": "stream",
     "text": [
      "Generating top m training tasks for test task 30\n"
     ]
    },
    {
     "name": "stderr",
     "output_type": "stream",
     "text": [
      "100%|███████████████████████████████████████████████████████████████████████████████| 100/100 [00:00<00:00, 114.42it/s]\n",
      " 12%|█████████▌                                                                      | 12/100 [00:00<00:00, 118.42it/s]"
     ]
    },
    {
     "name": "stdout",
     "output_type": "stream",
     "text": [
      "Generating top m training tasks for test task 31\n"
     ]
    },
    {
     "name": "stderr",
     "output_type": "stream",
     "text": [
      "100%|███████████████████████████████████████████████████████████████████████████████| 100/100 [00:00<00:00, 116.93it/s]\n",
      " 24%|███████████████████▏                                                            | 24/100 [00:00<00:00, 117.25it/s]"
     ]
    },
    {
     "name": "stdout",
     "output_type": "stream",
     "text": [
      "Generating top m training tasks for test task 32\n"
     ]
    },
    {
     "name": "stderr",
     "output_type": "stream",
     "text": [
      "100%|███████████████████████████████████████████████████████████████████████████████| 100/100 [00:00<00:00, 111.02it/s]\n",
      " 11%|████████▊                                                                       | 11/100 [00:00<00:00, 107.81it/s]"
     ]
    },
    {
     "name": "stdout",
     "output_type": "stream",
     "text": [
      "Generating top m training tasks for test task 33\n"
     ]
    },
    {
     "name": "stderr",
     "output_type": "stream",
     "text": [
      "100%|███████████████████████████████████████████████████████████████████████████████| 100/100 [00:00<00:00, 112.84it/s]\n",
      " 12%|█████████▌                                                                      | 12/100 [00:00<00:00, 108.50it/s]"
     ]
    },
    {
     "name": "stdout",
     "output_type": "stream",
     "text": [
      "Generating top m training tasks for test task 34\n"
     ]
    },
    {
     "name": "stderr",
     "output_type": "stream",
     "text": [
      "100%|███████████████████████████████████████████████████████████████████████████████| 100/100 [00:00<00:00, 112.80it/s]\n",
      " 11%|████████▊                                                                       | 11/100 [00:00<00:00, 107.32it/s]"
     ]
    },
    {
     "name": "stdout",
     "output_type": "stream",
     "text": [
      "Generating top m training tasks for test task 35\n"
     ]
    },
    {
     "name": "stderr",
     "output_type": "stream",
     "text": [
      "100%|███████████████████████████████████████████████████████████████████████████████| 100/100 [00:00<00:00, 112.69it/s]\n",
      " 22%|█████████████████▌                                                              | 22/100 [00:00<00:00, 109.97it/s]"
     ]
    },
    {
     "name": "stdout",
     "output_type": "stream",
     "text": [
      "Generating top m training tasks for test task 36\n"
     ]
    },
    {
     "name": "stderr",
     "output_type": "stream",
     "text": [
      "100%|███████████████████████████████████████████████████████████████████████████████| 100/100 [00:00<00:00, 114.17it/s]\n",
      " 25%|████████████████████                                                            | 25/100 [00:00<00:00, 117.90it/s]"
     ]
    },
    {
     "name": "stdout",
     "output_type": "stream",
     "text": [
      "Generating top m training tasks for test task 37\n"
     ]
    },
    {
     "name": "stderr",
     "output_type": "stream",
     "text": [
      "100%|███████████████████████████████████████████████████████████████████████████████| 100/100 [00:00<00:00, 115.79it/s]\n",
      " 12%|█████████▌                                                                      | 12/100 [00:00<00:00, 113.64it/s]"
     ]
    },
    {
     "name": "stdout",
     "output_type": "stream",
     "text": [
      "Generating top m training tasks for test task 38\n"
     ]
    },
    {
     "name": "stderr",
     "output_type": "stream",
     "text": [
      "100%|████████████████████████████████████████████████████████████████████████████████| 100/100 [00:01<00:00, 99.37it/s]\n",
      " 10%|████████                                                                         | 10/100 [00:00<00:00, 92.97it/s]"
     ]
    },
    {
     "name": "stdout",
     "output_type": "stream",
     "text": [
      "Generating top m training tasks for test task 39\n"
     ]
    },
    {
     "name": "stderr",
     "output_type": "stream",
     "text": [
      "100%|████████████████████████████████████████████████████████████████████████████████| 100/100 [00:01<00:00, 95.24it/s]\n",
      "  8%|██████▌                                                                           | 8/100 [00:00<00:01, 76.81it/s]"
     ]
    },
    {
     "name": "stdout",
     "output_type": "stream",
     "text": [
      "Generating top m training tasks for test task 40\n"
     ]
    },
    {
     "name": "stderr",
     "output_type": "stream",
     "text": [
      "100%|████████████████████████████████████████████████████████████████████████████████| 100/100 [00:01<00:00, 83.04it/s]\n",
      " 12%|█████████▌                                                                      | 12/100 [00:00<00:00, 112.48it/s]"
     ]
    },
    {
     "name": "stdout",
     "output_type": "stream",
     "text": [
      "Generating top m training tasks for test task 41\n"
     ]
    },
    {
     "name": "stderr",
     "output_type": "stream",
     "text": [
      "100%|███████████████████████████████████████████████████████████████████████████████| 100/100 [00:00<00:00, 102.86it/s]\n",
      " 21%|████████████████▊                                                               | 21/100 [00:00<00:00, 103.77it/s]"
     ]
    },
    {
     "name": "stdout",
     "output_type": "stream",
     "text": [
      "Generating top m training tasks for test task 42\n"
     ]
    },
    {
     "name": "stderr",
     "output_type": "stream",
     "text": [
      "100%|███████████████████████████████████████████████████████████████████████████████| 100/100 [00:00<00:00, 102.13it/s]\n",
      "  8%|██████▌                                                                           | 8/100 [00:00<00:01, 79.78it/s]"
     ]
    },
    {
     "name": "stdout",
     "output_type": "stream",
     "text": [
      "Generating top m training tasks for test task 43\n"
     ]
    },
    {
     "name": "stderr",
     "output_type": "stream",
     "text": [
      "100%|████████████████████████████████████████████████████████████████████████████████| 100/100 [00:01<00:00, 99.14it/s]\n",
      " 11%|████████▊                                                                       | 11/100 [00:00<00:00, 104.25it/s]"
     ]
    },
    {
     "name": "stdout",
     "output_type": "stream",
     "text": [
      "Generating top m training tasks for test task 44\n"
     ]
    },
    {
     "name": "stderr",
     "output_type": "stream",
     "text": [
      "100%|████████████████████████████████████████████████████████████████████████████████| 100/100 [00:01<00:00, 99.35it/s]\n",
      " 11%|████████▊                                                                       | 11/100 [00:00<00:00, 105.07it/s]"
     ]
    },
    {
     "name": "stdout",
     "output_type": "stream",
     "text": [
      "Generating top m training tasks for test task 45\n"
     ]
    },
    {
     "name": "stderr",
     "output_type": "stream",
     "text": [
      "100%|████████████████████████████████████████████████████████████████████████████████| 100/100 [00:01<00:00, 96.77it/s]\n",
      " 10%|████████                                                                         | 10/100 [00:00<00:00, 93.43it/s]"
     ]
    },
    {
     "name": "stdout",
     "output_type": "stream",
     "text": [
      "Generating top m training tasks for test task 46\n"
     ]
    },
    {
     "name": "stderr",
     "output_type": "stream",
     "text": [
      "100%|███████████████████████████████████████████████████████████████████████████████| 100/100 [00:00<00:00, 102.03it/s]\n",
      " 12%|█████████▌                                                                      | 12/100 [00:00<00:00, 110.44it/s]"
     ]
    },
    {
     "name": "stdout",
     "output_type": "stream",
     "text": [
      "Generating top m training tasks for test task 47\n"
     ]
    },
    {
     "name": "stderr",
     "output_type": "stream",
     "text": [
      "100%|███████████████████████████████████████████████████████████████████████████████| 100/100 [00:00<00:00, 103.10it/s]\n",
      " 11%|████████▊                                                                       | 11/100 [00:00<00:00, 109.07it/s]"
     ]
    },
    {
     "name": "stdout",
     "output_type": "stream",
     "text": [
      "Generating top m training tasks for test task 48\n"
     ]
    },
    {
     "name": "stderr",
     "output_type": "stream",
     "text": [
      "100%|███████████████████████████████████████████████████████████████████████████████| 100/100 [00:00<00:00, 101.22it/s]\n",
      " 10%|████████                                                                         | 10/100 [00:00<00:00, 95.52it/s]"
     ]
    },
    {
     "name": "stdout",
     "output_type": "stream",
     "text": [
      "Generating top m training tasks for test task 49\n"
     ]
    },
    {
     "name": "stderr",
     "output_type": "stream",
     "text": [
      "100%|███████████████████████████████████████████████████████████████████████████████| 100/100 [00:00<00:00, 108.93it/s]\n",
      " 11%|████████▊                                                                       | 11/100 [00:00<00:00, 104.27it/s]"
     ]
    },
    {
     "name": "stdout",
     "output_type": "stream",
     "text": [
      "Generating top m training tasks for test task 50\n"
     ]
    },
    {
     "name": "stderr",
     "output_type": "stream",
     "text": [
      "100%|███████████████████████████████████████████████████████████████████████████████| 100/100 [00:00<00:00, 101.49it/s]\n",
      " 11%|████████▊                                                                       | 11/100 [00:00<00:00, 106.23it/s]"
     ]
    },
    {
     "name": "stdout",
     "output_type": "stream",
     "text": [
      "Generating top m training tasks for test task 51\n"
     ]
    },
    {
     "name": "stderr",
     "output_type": "stream",
     "text": [
      "100%|███████████████████████████████████████████████████████████████████████████████| 100/100 [00:00<00:00, 113.71it/s]\n",
      " 22%|█████████████████▌                                                              | 22/100 [00:00<00:00, 101.15it/s]"
     ]
    },
    {
     "name": "stdout",
     "output_type": "stream",
     "text": [
      "Generating top m training tasks for test task 52\n"
     ]
    },
    {
     "name": "stderr",
     "output_type": "stream",
     "text": [
      "100%|███████████████████████████████████████████████████████████████████████████████| 100/100 [00:00<00:00, 105.65it/s]\n",
      " 11%|████████▊                                                                       | 11/100 [00:00<00:00, 109.59it/s]"
     ]
    },
    {
     "name": "stdout",
     "output_type": "stream",
     "text": [
      "Generating top m training tasks for test task 53\n"
     ]
    },
    {
     "name": "stderr",
     "output_type": "stream",
     "text": [
      "100%|███████████████████████████████████████████████████████████████████████████████| 100/100 [00:00<00:00, 102.12it/s]\n",
      " 11%|████████▊                                                                       | 11/100 [00:00<00:00, 108.55it/s]"
     ]
    },
    {
     "name": "stdout",
     "output_type": "stream",
     "text": [
      "Generating top m training tasks for test task 54\n"
     ]
    },
    {
     "name": "stderr",
     "output_type": "stream",
     "text": [
      "100%|████████████████████████████████████████████████████████████████████████████████| 100/100 [00:01<00:00, 92.37it/s]\n",
      " 11%|████████▉                                                                        | 11/100 [00:00<00:00, 99.44it/s]"
     ]
    },
    {
     "name": "stdout",
     "output_type": "stream",
     "text": [
      "Generating top m training tasks for test task 55\n"
     ]
    },
    {
     "name": "stderr",
     "output_type": "stream",
     "text": [
      "100%|███████████████████████████████████████████████████████████████████████████████| 100/100 [00:00<00:00, 103.63it/s]\n",
      " 11%|████████▊                                                                       | 11/100 [00:00<00:00, 107.47it/s]"
     ]
    },
    {
     "name": "stdout",
     "output_type": "stream",
     "text": [
      "Generating top m training tasks for test task 56\n"
     ]
    },
    {
     "name": "stderr",
     "output_type": "stream",
     "text": [
      "100%|███████████████████████████████████████████████████████████████████████████████| 100/100 [00:00<00:00, 102.56it/s]\n",
      " 11%|████████▊                                                                       | 11/100 [00:00<00:00, 109.63it/s]"
     ]
    },
    {
     "name": "stdout",
     "output_type": "stream",
     "text": [
      "Generating top m training tasks for test task 57\n"
     ]
    },
    {
     "name": "stderr",
     "output_type": "stream",
     "text": [
      "100%|███████████████████████████████████████████████████████████████████████████████| 100/100 [00:00<00:00, 106.16it/s]\n",
      " 11%|████████▊                                                                       | 11/100 [00:00<00:00, 104.50it/s]"
     ]
    },
    {
     "name": "stdout",
     "output_type": "stream",
     "text": [
      "Generating top m training tasks for test task 58\n"
     ]
    },
    {
     "name": "stderr",
     "output_type": "stream",
     "text": [
      "100%|███████████████████████████████████████████████████████████████████████████████| 100/100 [00:00<00:00, 101.58it/s]\n",
      " 12%|█████████▌                                                                      | 12/100 [00:00<00:00, 111.64it/s]"
     ]
    },
    {
     "name": "stdout",
     "output_type": "stream",
     "text": [
      "Generating top m training tasks for test task 59\n"
     ]
    },
    {
     "name": "stderr",
     "output_type": "stream",
     "text": [
      "100%|███████████████████████████████████████████████████████████████████████████████| 100/100 [00:00<00:00, 107.42it/s]\n",
      "  9%|███████▍                                                                          | 9/100 [00:00<00:01, 88.28it/s]"
     ]
    },
    {
     "name": "stdout",
     "output_type": "stream",
     "text": [
      "Generating top m training tasks for test task 60\n"
     ]
    },
    {
     "name": "stderr",
     "output_type": "stream",
     "text": [
      "100%|████████████████████████████████████████████████████████████████████████████████| 100/100 [00:01<00:00, 99.01it/s]\n",
      " 22%|█████████████████▌                                                              | 22/100 [00:00<00:00, 105.50it/s]"
     ]
    },
    {
     "name": "stdout",
     "output_type": "stream",
     "text": [
      "Generating top m training tasks for test task 61\n"
     ]
    },
    {
     "name": "stderr",
     "output_type": "stream",
     "text": [
      "100%|███████████████████████████████████████████████████████████████████████████████| 100/100 [00:00<00:00, 101.94it/s]\n",
      " 23%|██████████████████▍                                                             | 23/100 [00:00<00:00, 110.57it/s]"
     ]
    },
    {
     "name": "stdout",
     "output_type": "stream",
     "text": [
      "Generating top m training tasks for test task 62\n"
     ]
    },
    {
     "name": "stderr",
     "output_type": "stream",
     "text": [
      "100%|███████████████████████████████████████████████████████████████████████████████| 100/100 [00:00<00:00, 113.01it/s]\n",
      " 12%|█████████▌                                                                      | 12/100 [00:00<00:00, 115.17it/s]"
     ]
    },
    {
     "name": "stdout",
     "output_type": "stream",
     "text": [
      "Generating top m training tasks for test task 63\n"
     ]
    },
    {
     "name": "stderr",
     "output_type": "stream",
     "text": [
      "100%|███████████████████████████████████████████████████████████████████████████████| 100/100 [00:00<00:00, 113.51it/s]\n",
      " 23%|██████████████████▍                                                             | 23/100 [00:00<00:00, 114.15it/s]"
     ]
    },
    {
     "name": "stdout",
     "output_type": "stream",
     "text": [
      "Generating top m training tasks for test task 64\n"
     ]
    },
    {
     "name": "stderr",
     "output_type": "stream",
     "text": [
      "100%|███████████████████████████████████████████████████████████████████████████████| 100/100 [00:00<00:00, 112.00it/s]\n",
      " 12%|█████████▌                                                                      | 12/100 [00:00<00:00, 115.38it/s]"
     ]
    },
    {
     "name": "stdout",
     "output_type": "stream",
     "text": [
      "Generating top m training tasks for test task 65\n"
     ]
    },
    {
     "name": "stderr",
     "output_type": "stream",
     "text": [
      "100%|███████████████████████████████████████████████████████████████████████████████| 100/100 [00:00<00:00, 115.06it/s]\n",
      " 11%|████████▊                                                                       | 11/100 [00:00<00:00, 109.04it/s]"
     ]
    },
    {
     "name": "stdout",
     "output_type": "stream",
     "text": [
      "Generating top m training tasks for test task 66\n"
     ]
    },
    {
     "name": "stderr",
     "output_type": "stream",
     "text": [
      "100%|███████████████████████████████████████████████████████████████████████████████| 100/100 [00:00<00:00, 114.46it/s]\n",
      " 12%|█████████▌                                                                      | 12/100 [00:00<00:00, 114.56it/s]"
     ]
    },
    {
     "name": "stdout",
     "output_type": "stream",
     "text": [
      "Generating top m training tasks for test task 67\n"
     ]
    },
    {
     "name": "stderr",
     "output_type": "stream",
     "text": [
      "100%|███████████████████████████████████████████████████████████████████████████████| 100/100 [00:00<00:00, 112.78it/s]\n",
      " 23%|██████████████████▍                                                             | 23/100 [00:00<00:00, 114.11it/s]"
     ]
    },
    {
     "name": "stdout",
     "output_type": "stream",
     "text": [
      "Generating top m training tasks for test task 68\n"
     ]
    },
    {
     "name": "stderr",
     "output_type": "stream",
     "text": [
      "100%|███████████████████████████████████████████████████████████████████████████████| 100/100 [00:00<00:00, 113.96it/s]\n",
      " 24%|███████████████████▏                                                            | 24/100 [00:00<00:00, 114.23it/s]"
     ]
    },
    {
     "name": "stdout",
     "output_type": "stream",
     "text": [
      "Generating top m training tasks for test task 69\n"
     ]
    },
    {
     "name": "stderr",
     "output_type": "stream",
     "text": [
      "100%|███████████████████████████████████████████████████████████████████████████████| 100/100 [00:00<00:00, 113.94it/s]\n",
      " 12%|█████████▌                                                                      | 12/100 [00:00<00:00, 117.18it/s]"
     ]
    },
    {
     "name": "stdout",
     "output_type": "stream",
     "text": [
      "Generating top m training tasks for test task 70\n"
     ]
    },
    {
     "name": "stderr",
     "output_type": "stream",
     "text": [
      "100%|████████████████████████████████████████████████████████████████████████████████| 100/100 [00:01<00:00, 94.95it/s]\n",
      " 24%|███████████████████▏                                                            | 24/100 [00:00<00:00, 115.33it/s]"
     ]
    },
    {
     "name": "stdout",
     "output_type": "stream",
     "text": [
      "Generating top m training tasks for test task 71\n"
     ]
    },
    {
     "name": "stderr",
     "output_type": "stream",
     "text": [
      "100%|███████████████████████████████████████████████████████████████████████████████| 100/100 [00:00<00:00, 116.66it/s]\n",
      " 11%|████████▊                                                                       | 11/100 [00:00<00:00, 107.49it/s]"
     ]
    },
    {
     "name": "stdout",
     "output_type": "stream",
     "text": [
      "Generating top m training tasks for test task 72\n"
     ]
    },
    {
     "name": "stderr",
     "output_type": "stream",
     "text": [
      "100%|███████████████████████████████████████████████████████████████████████████████| 100/100 [00:00<00:00, 115.85it/s]\n",
      " 24%|███████████████████▏                                                            | 24/100 [00:00<00:00, 115.78it/s]"
     ]
    },
    {
     "name": "stdout",
     "output_type": "stream",
     "text": [
      "Generating top m training tasks for test task 73\n"
     ]
    },
    {
     "name": "stderr",
     "output_type": "stream",
     "text": [
      "100%|███████████████████████████████████████████████████████████████████████████████| 100/100 [00:00<00:00, 118.52it/s]\n",
      " 12%|█████████▌                                                                      | 12/100 [00:00<00:00, 114.12it/s]"
     ]
    },
    {
     "name": "stdout",
     "output_type": "stream",
     "text": [
      "Generating top m training tasks for test task 74\n"
     ]
    },
    {
     "name": "stderr",
     "output_type": "stream",
     "text": [
      "100%|███████████████████████████████████████████████████████████████████████████████| 100/100 [00:00<00:00, 114.31it/s]\n",
      " 12%|█████████▌                                                                      | 12/100 [00:00<00:00, 117.50it/s]"
     ]
    },
    {
     "name": "stdout",
     "output_type": "stream",
     "text": [
      "Generating top m training tasks for test task 75\n"
     ]
    },
    {
     "name": "stderr",
     "output_type": "stream",
     "text": [
      "100%|███████████████████████████████████████████████████████████████████████████████| 100/100 [00:00<00:00, 113.62it/s]\n",
      " 12%|█████████▌                                                                      | 12/100 [00:00<00:00, 114.05it/s]"
     ]
    },
    {
     "name": "stdout",
     "output_type": "stream",
     "text": [
      "Generating top m training tasks for test task 76\n"
     ]
    },
    {
     "name": "stderr",
     "output_type": "stream",
     "text": [
      "100%|███████████████████████████████████████████████████████████████████████████████| 100/100 [00:00<00:00, 110.58it/s]\n",
      " 12%|█████████▌                                                                      | 12/100 [00:00<00:00, 112.45it/s]"
     ]
    },
    {
     "name": "stdout",
     "output_type": "stream",
     "text": [
      "Generating top m training tasks for test task 77\n"
     ]
    },
    {
     "name": "stderr",
     "output_type": "stream",
     "text": [
      "100%|███████████████████████████████████████████████████████████████████████████████| 100/100 [00:00<00:00, 111.23it/s]\n",
      " 12%|█████████▌                                                                      | 12/100 [00:00<00:00, 109.58it/s]"
     ]
    },
    {
     "name": "stdout",
     "output_type": "stream",
     "text": [
      "Generating top m training tasks for test task 78\n"
     ]
    },
    {
     "name": "stderr",
     "output_type": "stream",
     "text": [
      "100%|███████████████████████████████████████████████████████████████████████████████| 100/100 [00:00<00:00, 114.01it/s]\n",
      " 12%|█████████▌                                                                      | 12/100 [00:00<00:00, 116.93it/s]"
     ]
    },
    {
     "name": "stdout",
     "output_type": "stream",
     "text": [
      "Generating top m training tasks for test task 79\n"
     ]
    },
    {
     "name": "stderr",
     "output_type": "stream",
     "text": [
      "100%|███████████████████████████████████████████████████████████████████████████████| 100/100 [00:00<00:00, 115.80it/s]\n",
      " 24%|███████████████████▏                                                            | 24/100 [00:00<00:00, 113.17it/s]"
     ]
    },
    {
     "name": "stdout",
     "output_type": "stream",
     "text": [
      "Generating top m training tasks for test task 80\n"
     ]
    },
    {
     "name": "stderr",
     "output_type": "stream",
     "text": [
      "100%|███████████████████████████████████████████████████████████████████████████████| 100/100 [00:00<00:00, 116.98it/s]\n",
      " 12%|█████████▌                                                                      | 12/100 [00:00<00:00, 115.76it/s]"
     ]
    },
    {
     "name": "stdout",
     "output_type": "stream",
     "text": [
      "Generating top m training tasks for test task 81\n"
     ]
    },
    {
     "name": "stderr",
     "output_type": "stream",
     "text": [
      "100%|███████████████████████████████████████████████████████████████████████████████| 100/100 [00:00<00:00, 110.83it/s]\n",
      " 11%|████████▉                                                                        | 11/100 [00:00<00:00, 98.18it/s]"
     ]
    },
    {
     "name": "stdout",
     "output_type": "stream",
     "text": [
      "Generating top m training tasks for test task 82\n"
     ]
    },
    {
     "name": "stderr",
     "output_type": "stream",
     "text": [
      "100%|███████████████████████████████████████████████████████████████████████████████| 100/100 [00:00<00:00, 105.50it/s]\n",
      " 10%|████████                                                                         | 10/100 [00:00<00:00, 95.86it/s]"
     ]
    },
    {
     "name": "stdout",
     "output_type": "stream",
     "text": [
      "Generating top m training tasks for test task 83\n"
     ]
    },
    {
     "name": "stderr",
     "output_type": "stream",
     "text": [
      "100%|███████████████████████████████████████████████████████████████████████████████| 100/100 [00:00<00:00, 111.39it/s]\n",
      " 11%|████████▊                                                                       | 11/100 [00:00<00:00, 108.62it/s]"
     ]
    },
    {
     "name": "stdout",
     "output_type": "stream",
     "text": [
      "Generating top m training tasks for test task 84\n"
     ]
    },
    {
     "name": "stderr",
     "output_type": "stream",
     "text": [
      "100%|███████████████████████████████████████████████████████████████████████████████| 100/100 [00:00<00:00, 101.49it/s]\n",
      " 22%|█████████████████▌                                                              | 22/100 [00:00<00:00, 107.42it/s]"
     ]
    },
    {
     "name": "stdout",
     "output_type": "stream",
     "text": [
      "Generating top m training tasks for test task 85\n"
     ]
    },
    {
     "name": "stderr",
     "output_type": "stream",
     "text": [
      "100%|███████████████████████████████████████████████████████████████████████████████| 100/100 [00:00<00:00, 109.59it/s]\n",
      " 12%|█████████▌                                                                      | 12/100 [00:00<00:00, 114.87it/s]"
     ]
    },
    {
     "name": "stdout",
     "output_type": "stream",
     "text": [
      "Generating top m training tasks for test task 86\n"
     ]
    },
    {
     "name": "stderr",
     "output_type": "stream",
     "text": [
      "100%|███████████████████████████████████████████████████████████████████████████████| 100/100 [00:00<00:00, 115.99it/s]\n",
      " 13%|██████████▍                                                                     | 13/100 [00:00<00:00, 121.16it/s]"
     ]
    },
    {
     "name": "stdout",
     "output_type": "stream",
     "text": [
      "Generating top m training tasks for test task 87\n"
     ]
    },
    {
     "name": "stderr",
     "output_type": "stream",
     "text": [
      "100%|███████████████████████████████████████████████████████████████████████████████| 100/100 [00:00<00:00, 116.80it/s]\n",
      " 13%|██████████▍                                                                     | 13/100 [00:00<00:00, 122.02it/s]"
     ]
    },
    {
     "name": "stdout",
     "output_type": "stream",
     "text": [
      "Generating top m training tasks for test task 88\n"
     ]
    },
    {
     "name": "stderr",
     "output_type": "stream",
     "text": [
      "100%|███████████████████████████████████████████████████████████████████████████████| 100/100 [00:00<00:00, 120.33it/s]\n",
      " 25%|████████████████████                                                            | 25/100 [00:00<00:00, 119.14it/s]"
     ]
    },
    {
     "name": "stdout",
     "output_type": "stream",
     "text": [
      "Generating top m training tasks for test task 89\n"
     ]
    },
    {
     "name": "stderr",
     "output_type": "stream",
     "text": [
      "100%|███████████████████████████████████████████████████████████████████████████████| 100/100 [00:00<00:00, 116.69it/s]\n",
      " 24%|███████████████████▏                                                            | 24/100 [00:00<00:00, 116.44it/s]"
     ]
    },
    {
     "name": "stdout",
     "output_type": "stream",
     "text": [
      "Generating top m training tasks for test task 90\n"
     ]
    },
    {
     "name": "stderr",
     "output_type": "stream",
     "text": [
      "100%|███████████████████████████████████████████████████████████████████████████████| 100/100 [00:00<00:00, 115.61it/s]\n",
      " 12%|█████████▌                                                                      | 12/100 [00:00<00:00, 115.98it/s]"
     ]
    },
    {
     "name": "stdout",
     "output_type": "stream",
     "text": [
      "Generating top m training tasks for test task 91\n"
     ]
    },
    {
     "name": "stderr",
     "output_type": "stream",
     "text": [
      "100%|████████████████████████████████████████████████████████████████████████████████| 100/100 [00:01<00:00, 92.36it/s]\n",
      " 12%|█████████▌                                                                      | 12/100 [00:00<00:00, 118.78it/s]"
     ]
    },
    {
     "name": "stdout",
     "output_type": "stream",
     "text": [
      "Generating top m training tasks for test task 92\n"
     ]
    },
    {
     "name": "stderr",
     "output_type": "stream",
     "text": [
      "100%|███████████████████████████████████████████████████████████████████████████████| 100/100 [00:00<00:00, 114.83it/s]\n",
      " 12%|█████████▌                                                                      | 12/100 [00:00<00:00, 113.14it/s]"
     ]
    },
    {
     "name": "stdout",
     "output_type": "stream",
     "text": [
      "Generating top m training tasks for test task 93\n"
     ]
    },
    {
     "name": "stderr",
     "output_type": "stream",
     "text": [
      "100%|███████████████████████████████████████████████████████████████████████████████| 100/100 [00:00<00:00, 112.35it/s]\n",
      " 11%|████████▊                                                                       | 11/100 [00:00<00:00, 105.32it/s]"
     ]
    },
    {
     "name": "stdout",
     "output_type": "stream",
     "text": [
      "Generating top m training tasks for test task 94\n"
     ]
    },
    {
     "name": "stderr",
     "output_type": "stream",
     "text": [
      "100%|███████████████████████████████████████████████████████████████████████████████| 100/100 [00:00<00:00, 103.69it/s]\n",
      " 11%|████████▉                                                                        | 11/100 [00:00<00:00, 99.91it/s]"
     ]
    },
    {
     "name": "stdout",
     "output_type": "stream",
     "text": [
      "Generating top m training tasks for test task 95\n"
     ]
    },
    {
     "name": "stderr",
     "output_type": "stream",
     "text": [
      "100%|███████████████████████████████████████████████████████████████████████████████| 100/100 [00:00<00:00, 106.20it/s]\n",
      " 12%|█████████▌                                                                      | 12/100 [00:00<00:00, 112.17it/s]"
     ]
    },
    {
     "name": "stdout",
     "output_type": "stream",
     "text": [
      "Generating top m training tasks for test task 96\n"
     ]
    },
    {
     "name": "stderr",
     "output_type": "stream",
     "text": [
      "100%|███████████████████████████████████████████████████████████████████████████████| 100/100 [00:00<00:00, 104.91it/s]\n",
      " 11%|████████▉                                                                        | 11/100 [00:00<00:00, 99.14it/s]"
     ]
    },
    {
     "name": "stdout",
     "output_type": "stream",
     "text": [
      "Generating top m training tasks for test task 97\n"
     ]
    },
    {
     "name": "stderr",
     "output_type": "stream",
     "text": [
      "100%|███████████████████████████████████████████████████████████████████████████████| 100/100 [00:00<00:00, 104.96it/s]\n",
      " 12%|█████████▌                                                                      | 12/100 [00:00<00:00, 114.94it/s]"
     ]
    },
    {
     "name": "stdout",
     "output_type": "stream",
     "text": [
      "Generating top m training tasks for test task 98\n"
     ]
    },
    {
     "name": "stderr",
     "output_type": "stream",
     "text": [
      "100%|███████████████████████████████████████████████████████████████████████████████| 100/100 [00:00<00:00, 108.67it/s]\n",
      " 12%|█████████▌                                                                      | 12/100 [00:00<00:00, 114.32it/s]"
     ]
    },
    {
     "name": "stdout",
     "output_type": "stream",
     "text": [
      "Generating top m training tasks for test task 99\n"
     ]
    },
    {
     "name": "stderr",
     "output_type": "stream",
     "text": [
      "100%|███████████████████████████████████████████████████████████████████████████████| 100/100 [00:00<00:00, 108.93it/s]\n"
     ]
    },
    {
     "name": "stdout",
     "output_type": "stream",
     "text": [
      "Fetching test embeddings\n",
      "Path fetched: ../embeddings\\tieredImageNet\\center\\test_embeddings.pkl\n"
     ]
    },
    {
     "name": "stderr",
     "output_type": "stream",
     "text": [
      "\r",
      "  0%|                                                                                          | 0/100 [00:00<?, ?it/s]"
     ]
    },
    {
     "name": "stdout",
     "output_type": "stream",
     "text": [
      "Generating test tasks\n"
     ]
    },
    {
     "name": "stderr",
     "output_type": "stream",
     "text": [
      "100%|████████████████████████████████████████████████████████████████████████████████| 100/100 [00:30<00:00,  3.28it/s]\n"
     ]
    }
   ],
   "source": [
    "#Set tensor device\n",
    "device = torch.device('cuda:0' if torch.cuda.is_available() else 'cpu')\n",
    "\n",
    "#Generate Task DB or load from filesystem\n",
    "#print(\"Generating tasks and compute their alpha weights\")\n",
    "#runner.populate_db()\n",
    "\n",
    "#Perform top-m filtering\n",
    "print(\"Filtering top-m alpha weights and training tasks\")\n",
    "alpha_weights, train_db = runner.top_m_filtering()\n",
    "\n",
    "#Get target task from filesystem\n",
    "test_path = helper.get_task_dataset_path(\"test\")\n",
    "test_db = runner.unpickle(test_path)\n",
    "\n",
    "#Get train data embeddings\n",
    "print(\"Fetching train embeddings\")\n",
    "train_provider = dp.DataProvider(\"train\", debug=False, verbose=False)\n",
    "train_tr_size = Config.TRAINING_NUM_OF_EXAMPLES_PER_CLASS\n",
    "train_val_size = Config.VALIDATION_NUM_OF_EXAMPLES_PER_CLASS\n",
    "print(\"Generating training tasks\")\n",
    "num_test_tasks = alpha_weights.shape[1]\n",
    "train_tasks = []\n",
    "for n in range(num_test_tasks): \n",
    "    print(\"Generating top m training tasks for test task \" + str(n))\n",
    "    train_tasks.append(th.generate_tasks(train_db[n], train_provider, train_tr_size, train_val_size, device))\n",
    "del train_db, train_provider #Free up space\n",
    "\n",
    "#Get train data embeddings\n",
    "print(\"Fetching test embeddings\")\n",
    "test_provider = dp.DataProvider(\"test\", debug=False, verbose=False)\n",
    "test_tr_size = Config.TRAINING_NUM_OF_EXAMPLES_PER_CLASS\n",
    "test_val_size = Config.TEST_VALIDATION_NUM_OF_EXAMPLES_PER_CLASS\n",
    "print(\"Generating test tasks\")\n",
    "test_tasks = th.generate_tasks(test_db, test_provider, test_tr_size, test_val_size, device) # Target tasks with only tests populated\n",
    "del test_db, test_provider #Free up space\n"
   ]
  },
  {
   "cell_type": "code",
   "execution_count": 20,
   "metadata": {},
   "outputs": [
    {
     "name": "stdout",
     "output_type": "stream",
     "text": [
      "(100, 100)\n",
      "100\n",
      "100\n"
     ]
    },
    {
     "data": {
      "text/plain": [
       "100"
      ]
     },
     "execution_count": 20,
     "metadata": {},
     "output_type": "execute_result"
    }
   ],
   "source": [
    "print(alpha_weights.shape) #top-m = 100, num_test_tasks = 100\n",
    "print(len(train_tasks))\n",
    "print(len(train_tasks[0])) #Train_tesks is a list of top m tasks for each test task \n",
    "len(test_tasks)"
   ]
  },
  {
   "cell_type": "code",
   "execution_count": 25,
   "metadata": {},
   "outputs": [
    {
     "name": "stdout",
     "output_type": "stream",
     "text": [
      "alpha weight:  0.19707019177985785 Support length:  1 Query length:  15\n",
      "alpha weight:  0.17988452331246663 Support length:  1 Query length:  15\n",
      "alpha weight:  0.17062622291678053 Support length:  1 Query length:  15\n",
      "alpha weight:  0.15165734745119153 Support length:  1 Query length:  15\n",
      "alpha weight:  0.1490219148736287 Support length:  1 Query length:  15\n"
     ]
    }
   ],
   "source": [
    "#Iterate each test task\n",
    "#Fetch the training tasks and weights for the test task\n",
    "for test_task_num, target_task in enumerate(test_tasks):\n",
    "    alpha_weights_for_target = alpha_weights[:,test_task_num]\n",
    "    training_tasks_for_target = train_tasks[test_task_num] #returns list\n",
    "    \n",
    "    for training_task_num, training_task in enumerate(training_tasks_for_target):\n",
    "        alpha_weight = alpha_weights_for_target[training_task_num]\n",
    "        support = training_task.task_classes[0].support_imgs # Get support set of class 0\n",
    "        query = training_task.task_classes[0].query_imgs\n",
    "        \n",
    "        if training_task_num < 5 and test_task_num==0: #Print weight and shape to get a feel of the data structures\n",
    "            print(\"alpha weight: \", alpha_weight, \"Support length: \", len(support), \"Query length: \", len(query) )\n",
    "\n",
    "    "
   ]
  },
  {
   "cell_type": "code",
   "execution_count": 5,
   "metadata": {},
   "outputs": [],
   "source": [
    "test_net = TestNets.TestNet224x224(n_channels_in=NUM_IN_CHANNELS, n_classes=LEN_CLASSES)"
   ]
  },
  {
   "cell_type": "code",
   "execution_count": null,
   "metadata": {},
   "outputs": [],
   "source": [
    "MAML.maml_nn_classifier_learn(\n",
    "    test_net=test_net,\n",
    "    tasks=TASKS,\n",
    "    # inner_epochs: int = 1, # Not implemented yet.\n",
    "    meta_epochs=20,\n",
    "    # inner_lr: float = 0.001,\n",
    "    # outer_lr: float = 0.001,\n",
    "    # loss_function = torch.nn.CrossEntropyLoss()\n",
    ")"
   ]
  },
  {
   "cell_type": "code",
   "execution_count": null,
   "metadata": {},
   "outputs": [],
   "source": [
    "# Repeat until convergence:\n",
    "TASML.tasml_epoch_nn_classifier_learn(\n",
    "    test_net=test_net,\n",
    "    tasks=train_tasks,\n",
    "    alpha_weights=alpha_weights,\n",
    "    # inner_epochs: int = 1, # Feature not implemented.\n",
    "    # inner_lr: float = 0.001,\n",
    "    # outer_lr: float = 0.001,\n",
    "    # loss_function = torch.nn.CrossEntropyLoss()\n",
    "):"
   ]
  },
  {
   "cell_type": "code",
   "execution_count": null,
   "metadata": {},
   "outputs": [],
   "source": []
  }
 ],
 "metadata": {
  "kernelspec": {
   "display_name": "Python 3",
   "language": "python",
   "name": "python3"
  },
  "language_info": {
   "codemirror_mode": {
    "name": "ipython",
    "version": 3
   },
   "file_extension": ".py",
   "mimetype": "text/x-python",
   "name": "python",
   "nbconvert_exporter": "python",
   "pygments_lexer": "ipython3",
   "version": "3.8.8"
  },
  "metadata": {
   "interpreter": {
    "hash": "aee8b7b246df8f9039afb4144a1f6fd8d2ca17a180786b69acc140d282b71a49"
   }
  }
 },
 "nbformat": 4,
 "nbformat_minor": 2
}
